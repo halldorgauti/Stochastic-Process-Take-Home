{
 "cells": [
  {
   "attachments": {},
   "cell_type": "markdown",
   "metadata": {},
   "source": [
    "<h1>Question 22</h1>"
   ]
  },
  {
   "cell_type": "code",
   "execution_count": 93,
   "metadata": {},
   "outputs": [
    {
     "data": {
      "text/latex": [
       "$\\displaystyle \\frac{\\sqrt{2} \\lambda e^{- \\lambda t} e^{- \\frac{x^{2}}{2 \\sigma^{2} t}}}{2 \\sqrt{\\pi} \\sigma \\sqrt{t}}$"
      ],
      "text/plain": [
       "sqrt(2)*lambda*exp(-lambda*t)*exp(-x**2/(2*sigma**2*t))/(2*sqrt(pi)*sigma*sqrt(t))"
      ]
     },
     "execution_count": 93,
     "metadata": {},
     "output_type": "execute_result"
    }
   ],
   "source": [
    "from sympy import *\n",
    "\n",
    "t,sigma,lambd = symbols('t,sigma,lambda',positive=True)\n",
    "x = symbols('x',positive=True)\n",
    "\n",
    "#sigma = sqrt(5)\n",
    "#lambd = Rational(1,6)\n",
    "\n",
    "integraleq_pos = 1/(sigma*sqrt(t)*sqrt(2*pi))*exp(-Rational(1,2)*(x/(sigma*sqrt(t)))**2)*lambd*exp(-lambd*t)\n",
    "integraleq_pos"
   ]
  },
  {
   "attachments": {},
   "cell_type": "markdown",
   "metadata": {},
   "source": [
    "Evaluate integral for positive x values"
   ]
  },
  {
   "cell_type": "code",
   "execution_count": 94,
   "metadata": {},
   "outputs": [
    {
     "data": {
      "text/latex": [
       "$\\displaystyle \\frac{\\sqrt{2} \\sqrt{\\lambda} e^{- \\frac{\\sqrt{2} \\sqrt{\\lambda} x}{\\sigma}}}{2 \\sigma}$"
      ],
      "text/plain": [
       "sqrt(2)*sqrt(lambda)*exp(-sqrt(2)*sqrt(lambda)*x/sigma)/(2*sigma)"
      ]
     },
     "execution_count": 94,
     "metadata": {},
     "output_type": "execute_result"
    }
   ],
   "source": [
    "int_sol_pos = simplify(integrate(integraleq_pos,(t,0,oo)))\n",
    "int_sol_pos"
   ]
  },
  {
   "cell_type": "code",
   "execution_count": 95,
   "metadata": {},
   "outputs": [
    {
     "data": {
      "text/latex": [
       "$\\displaystyle 1 - \\frac{e^{- \\frac{\\sqrt{2} \\sqrt{\\lambda} y}{\\sigma}}}{2}$"
      ],
      "text/plain": [
       "1 - exp(-sqrt(2)*sqrt(lambda)*y/sigma)/2"
      ]
     },
     "execution_count": 95,
     "metadata": {},
     "output_type": "execute_result"
    }
   ],
   "source": [
    "y = symbols('y')\n",
    "cdf_pos = 1-integrate(int_sol_pos,(x,y,oo))\n",
    "cdf_pos"
   ]
  },
  {
   "attachments": {},
   "cell_type": "markdown",
   "metadata": {},
   "source": [
    "Now we evaluate integral for negative x values"
   ]
  },
  {
   "cell_type": "code",
   "execution_count": 98,
   "metadata": {},
   "outputs": [
    {
     "data": {
      "text/latex": [
       "$\\displaystyle \\frac{\\sqrt{2} \\lambda e^{- \\lambda t} e^{- \\frac{x^{2}}{2 \\sigma^{2} t}}}{2 \\sqrt{\\pi} \\sigma \\sqrt{t}}$"
      ],
      "text/plain": [
       "sqrt(2)*lambda*exp(-lambda*t)*exp(-x**2/(2*sigma**2*t))/(2*sqrt(pi)*sigma*sqrt(t))"
      ]
     },
     "execution_count": 98,
     "metadata": {},
     "output_type": "execute_result"
    }
   ],
   "source": [
    "x = symbols('x',negative=True)\n",
    "integraleq_neg = 1/(sigma*sqrt(t)*sqrt(2*pi))*exp(-Rational(1,2)*(x/(sigma*sqrt(t)))**2)*lambd*exp(-lambd*t)\n",
    "integraleq_neg\n"
   ]
  },
  {
   "cell_type": "code",
   "execution_count": 99,
   "metadata": {},
   "outputs": [
    {
     "data": {
      "text/latex": [
       "$\\displaystyle \\frac{\\sqrt{2} \\sqrt{\\lambda} e^{\\frac{\\sqrt{2} \\sqrt{\\lambda} x}{\\sigma}}}{2 \\sigma}$"
      ],
      "text/plain": [
       "sqrt(2)*sqrt(lambda)*exp(sqrt(2)*sqrt(lambda)*x/sigma)/(2*sigma)"
      ]
     },
     "execution_count": 99,
     "metadata": {},
     "output_type": "execute_result"
    }
   ],
   "source": [
    "int_sol_neg = simplify(integrate(integraleq_neg,(t,0,oo)))\n",
    "int_sol_neg"
   ]
  },
  {
   "cell_type": "code",
   "execution_count": 100,
   "metadata": {},
   "outputs": [
    {
     "data": {
      "text/latex": [
       "$\\displaystyle \\frac{e^{\\frac{\\sqrt{2} \\sqrt{\\lambda} y}{\\sigma}}}{2}$"
      ],
      "text/plain": [
       "exp(sqrt(2)*sqrt(lambda)*y/sigma)/2"
      ]
     },
     "execution_count": 100,
     "metadata": {},
     "output_type": "execute_result"
    }
   ],
   "source": [
    "y = symbols('y')\n",
    "cdf_neg = integrate(int_sol_neg,(x,-oo,y))\n",
    "cdf_neg"
   ]
  },
  {
   "attachments": {},
   "cell_type": "markdown",
   "metadata": {},
   "source": [
    "<h1>Question 23</h1>"
   ]
  },
  {
   "cell_type": "code",
   "execution_count": 103,
   "metadata": {},
   "outputs": [
    {
     "data": {
      "text/latex": [
       "$\\displaystyle 0.0378117235343167$"
      ],
      "text/plain": [
       "0.0378117235343167"
      ]
     },
     "execution_count": 103,
     "metadata": {},
     "output_type": "execute_result"
    }
   ],
   "source": [
    "prob = cdf_pos.subs([(lambd,1/6),(sigma,sqrt(5)),(y,10)])\n",
    "1-prob.evalf()"
   ]
  },
  {
   "attachments": {},
   "cell_type": "markdown",
   "metadata": {},
   "source": [
    "<h1>Question 26</h1>"
   ]
  },
  {
   "cell_type": "code",
   "execution_count": 104,
   "metadata": {},
   "outputs": [
    {
     "data": {
      "text/plain": [
       "2.095182026371208"
      ]
     },
     "execution_count": 104,
     "metadata": {},
     "output_type": "execute_result"
    }
   ],
   "source": [
    "#calculate value inside PHI\n",
    "import numpy as np\n",
    "\n",
    "beta = 0.1\n",
    "y = 10\n",
    "x = 4\n",
    "sigma = np.sqrt(5)\n",
    "t = 3\n",
    "\n",
    "inside = (np.sqrt(2*beta)*(y-x*np.exp(-beta*t)))/(sigma*np.sqrt(1-np.exp(-2*beta*t)))\n",
    "\n",
    "inside"
   ]
  },
  {
   "cell_type": "code",
   "execution_count": 105,
   "metadata": {},
   "outputs": [
    {
     "data": {
      "text/plain": [
       "0.035800000000000054"
      ]
     },
     "execution_count": 105,
     "metadata": {},
     "output_type": "execute_result"
    }
   ],
   "source": [
    "2*(1-0.9821)"
   ]
  },
  {
   "attachments": {},
   "cell_type": "markdown",
   "metadata": {},
   "source": [
    "<h1>Question 27</h1>"
   ]
  },
  {
   "cell_type": "code",
   "execution_count": 106,
   "metadata": {},
   "outputs": [
    {
     "data": {
      "text/plain": [
       "0.565685424949238"
      ]
     },
     "execution_count": 106,
     "metadata": {},
     "output_type": "execute_result"
    }
   ],
   "source": [
    "#question 27 inside bigphi\n",
    "np.sqrt(beta)*4/np.sqrt(5)"
   ]
  }
 ],
 "metadata": {
  "kernelspec": {
   "display_name": "Python 3",
   "language": "python",
   "name": "python3"
  },
  "language_info": {
   "codemirror_mode": {
    "name": "ipython",
    "version": 3
   },
   "file_extension": ".py",
   "mimetype": "text/x-python",
   "name": "python",
   "nbconvert_exporter": "python",
   "pygments_lexer": "ipython3",
   "version": "3.8.5 (default, Sep  3 2020, 21:29:08) [MSC v.1916 64 bit (AMD64)]"
  },
  "orig_nbformat": 4,
  "vscode": {
   "interpreter": {
    "hash": "6f5583cf1d9466b5c27e75c89cc6b383bed5736d6b16c51c8074d8690011a952"
   }
  }
 },
 "nbformat": 4,
 "nbformat_minor": 2
}
