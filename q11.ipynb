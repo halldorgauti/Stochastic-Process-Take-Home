{
 "cells": [
  {
   "cell_type": "code",
   "execution_count": 1,
   "metadata": {},
   "outputs": [],
   "source": [
    "import numpy as np\n",
    "\n",
    "lambd1 = 11/120\n",
    "lambd2 = 11/12\n",
    "mu = 1\n",
    "\n",
    "Lmatr = np.array([[-lambd1,0,lambd1,0],[0,-lambd2,lambd2,0],[0,0,-mu,mu],[0,0,0,-mu]])\n",
    "gamma = np.array([0.5,0.5,0,0])"
   ]
  },
  {
   "cell_type": "code",
   "execution_count": 8,
   "metadata": {},
   "outputs": [],
   "source": [
    "def PHaddition(Smatr,Tmatr,alpha,beta):\n",
    "    svec = np.array([-Smatr@np.ones_like(alpha)])\n",
    "    tvec = np.array([-Tmatr@np.ones_like(beta)])\n",
    "\n",
    "    blockmatr = np.outer(svec,beta)\n",
    "    Lmatrix = np.block([[Smatr,blockmatr],[np.zeros([len(Tmatr),len(Smatr)]),Tmatr]])\n",
    "    gammavec = np.concatenate([alpha,np.zeros_like(beta)])\n",
    "\n",
    "    return Lmatrix,gammavec"
   ]
  },
  {
   "cell_type": "code",
   "execution_count": 16,
   "metadata": {},
   "outputs": [],
   "source": [
    "import pandas as pd\n",
    "from scipy.linalg import expm\n",
    "\n",
    "L20m = Lmatr\n",
    "L30m = Lmatr\n",
    "\n",
    "gamma20 = gamma\n",
    "gamma30 = gamma\n",
    "\n",
    "n1 = 20\n",
    "n2 = 30\n",
    "#Comput L20 and L30\n",
    "for k in range(n1-1):\n",
    "    L20m,gamma20 = PHaddition(L20m,Lmatr,gamma20,gamma)\n",
    "\n",
    "for k in range(n2-1):\n",
    "    L30m,gamma30 = PHaddition(L30m,Lmatr,gamma30,gamma)"
   ]
  },
  {
   "cell_type": "code",
   "execution_count": 17,
   "metadata": {},
   "outputs": [
    {
     "name": "stdout",
     "output_type": "stream",
     "text": [
      "0.836397308694429\n"
     ]
    }
   ],
   "source": [
    "#calculate the probability W_20<200\n",
    "t = 200\n",
    "prob20 = 1-gamma20.T@expm(L20m*t)@np.ones_like(gamma20)\n",
    "print(prob20)"
   ]
  },
  {
   "cell_type": "code",
   "execution_count": 18,
   "metadata": {},
   "outputs": [
    {
     "name": "stdout",
     "output_type": "stream",
     "text": [
      "0.2241664459631163\n"
     ]
    }
   ],
   "source": [
    "#calculate the probability W_30<200\n",
    "t = 200\n",
    "prob30 = 1-gamma30.T@expm(L30m*t)@np.ones_like(gamma30)\n",
    "print(prob30)"
   ]
  },
  {
   "cell_type": "code",
   "execution_count": 19,
   "metadata": {},
   "outputs": [
    {
     "data": {
      "text/plain": [
       "0.6122308627313127"
      ]
     },
     "execution_count": 19,
     "metadata": {},
     "output_type": "execute_result"
    }
   ],
   "source": [
    "#calculate the probability that N(200) is between 20 and 30\n",
    "finalprob = prob20-prob30\n",
    "finalprob"
   ]
  },
  {
   "cell_type": "code",
   "execution_count": 4,
   "metadata": {},
   "outputs": [],
   "source": [
    "np.set_printoptions(precision=3)"
   ]
  },
  {
   "cell_type": "code",
   "execution_count": null,
   "metadata": {},
   "outputs": [],
   "source": []
  }
 ],
 "metadata": {
  "kernelspec": {
   "display_name": "Python 3",
   "language": "python",
   "name": "python3"
  },
  "language_info": {
   "codemirror_mode": {
    "name": "ipython",
    "version": 3
   },
   "file_extension": ".py",
   "mimetype": "text/x-python",
   "name": "python",
   "nbconvert_exporter": "python",
   "pygments_lexer": "ipython3",
   "version": "3.8.5"
  },
  "orig_nbformat": 4,
  "vscode": {
   "interpreter": {
    "hash": "6f5583cf1d9466b5c27e75c89cc6b383bed5736d6b16c51c8074d8690011a952"
   }
  }
 },
 "nbformat": 4,
 "nbformat_minor": 2
}
