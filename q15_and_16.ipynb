{
 "cells": [
  {
   "attachments": {},
   "cell_type": "markdown",
   "metadata": {},
   "source": [
    "<h1>Question 15</h1>"
   ]
  },
  {
   "cell_type": "code",
   "execution_count": 1,
   "metadata": {},
   "outputs": [
    {
     "data": {
      "text/plain": [
       "array([[-4. ,  4. ,  0. ,  0. ,  0. ,  0. ,  0. ,  0. ,  0. ,  0. ],\n",
       "       [ 0.5, -4.5,  4. ,  0. ,  0. ,  0. ,  0. ,  0. ,  0. ,  0. ],\n",
       "       [ 0. ,  1. , -5. ,  4. ,  0. ,  0. ,  0. ,  0. ,  0. ,  0. ],\n",
       "       [ 0. ,  0. ,  1.5, -5.5,  4. ,  0. ,  0. ,  0. ,  0. ,  0. ],\n",
       "       [ 0. ,  0. ,  0. ,  2. , -6. ,  4. ,  0. ,  0. ,  0. ,  0. ],\n",
       "       [ 0. ,  0. ,  0. ,  0. ,  2.5, -6.5,  4. ,  0. ,  0. ,  0. ],\n",
       "       [ 0. ,  0. ,  0. ,  0. ,  0. ,  3. , -7. ,  4. ,  0. ,  0. ],\n",
       "       [ 0. ,  0. ,  0. ,  0. ,  0. ,  0. ,  3.5, -7.5,  4. ,  0. ],\n",
       "       [ 0. ,  0. ,  0. ,  0. ,  0. ,  0. ,  0. ,  4. , -8. ,  4. ],\n",
       "       [ 0. ,  0. ,  0. ,  0. ,  0. ,  0. ,  0. ,  0. ,  4.5, -8.5]])"
      ]
     },
     "execution_count": 1,
     "metadata": {},
     "output_type": "execute_result"
    }
   ],
   "source": [
    "import numpy as np\n",
    "import pandas as pd\n",
    "N = 10\n",
    "h = 9 #9 repair units\n",
    "S = np.zeros([N,N])\n",
    "lambd = 4\n",
    "mu = 0.5\n",
    "S[0,0:2] = [-lambd, lambd]\n",
    "for i in range(1,N-1):\n",
    "    if i<h:\n",
    "        S[i,i-1] = mu*i\n",
    "        S[i,i] = -mu*i-lambd\n",
    "        S[i,i+1] = lambd\n",
    "    if i>=h:\n",
    "        S[i,i-1] = mu*h\n",
    "        S[i,i] = -mu*h-lambd\n",
    "        S[i,i+1] = lambd\n",
    "S[-1,-1] = -h*mu-lambd\n",
    "S[-1,-2] = h*mu\n",
    "\n",
    "s = -S@np.ones(len(S))\n",
    "alpha = np.zeros_like(s)\n",
    "alpha[0] = 1\n",
    "\n",
    "Smatr = S\n",
    "Smatr"
   ]
  },
  {
   "attachments": {},
   "cell_type": "markdown",
   "metadata": {},
   "source": [
    "Use numerical integration with scypy quads"
   ]
  },
  {
   "cell_type": "code",
   "execution_count": 3,
   "metadata": {},
   "outputs": [
    {
     "data": {
      "text/plain": [
       "6.136503934860225"
      ]
     },
     "execution_count": 3,
     "metadata": {},
     "output_type": "execute_result"
    }
   ],
   "source": [
    "from scipy.integrate import quad\n",
    "from scipy.linalg import expm\n",
    "def integrand(x):\n",
    "    return x*(alpha.T@expm(Smatr*x)@s)\n",
    "\n",
    "I = quad(integrand, 0, np.infty)[0]\n",
    "I"
   ]
  },
  {
   "attachments": {},
   "cell_type": "markdown",
   "metadata": {},
   "source": [
    "<h1>Question 16</h1>"
   ]
  },
  {
   "cell_type": "code",
   "execution_count": 4,
   "metadata": {},
   "outputs": [
    {
     "data": {
      "text/plain": [
       "0.9999956263196503"
      ]
     },
     "execution_count": 4,
     "metadata": {},
     "output_type": "execute_result"
    }
   ],
   "source": [
    "def integrand(x):\n",
    "    return (alpha.T@expm(Smatr*x)@s)\n",
    "\n",
    "I = quad(integrand, 0, 50)[0]\n",
    "I"
   ]
  }
 ],
 "metadata": {
  "kernelspec": {
   "display_name": "Python 3",
   "language": "python",
   "name": "python3"
  },
  "language_info": {
   "codemirror_mode": {
    "name": "ipython",
    "version": 3
   },
   "file_extension": ".py",
   "mimetype": "text/x-python",
   "name": "python",
   "nbconvert_exporter": "python",
   "pygments_lexer": "ipython3",
   "version": "3.8.5"
  },
  "orig_nbformat": 4,
  "vscode": {
   "interpreter": {
    "hash": "6f5583cf1d9466b5c27e75c89cc6b383bed5736d6b16c51c8074d8690011a952"
   }
  }
 },
 "nbformat": 4,
 "nbformat_minor": 2
}
