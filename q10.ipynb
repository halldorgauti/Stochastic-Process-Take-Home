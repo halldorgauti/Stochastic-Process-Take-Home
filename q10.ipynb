{
 "cells": [
  {
   "cell_type": "code",
   "execution_count": 38,
   "metadata": {},
   "outputs": [],
   "source": [
    "import numpy as np\n",
    "\n",
    "lambd1 = 11/120\n",
    "lambd2 = 11/12\n",
    "mu = 1\n",
    "\n",
    "Lmatr = np.array([[-lambd1,0,lambd1,0],[0,-lambd2,lambd2,0],[0,0,-mu,mu],[0,0,0,-mu]])\n",
    "gamma = np.array([0.5,0.5,0,0])"
   ]
  },
  {
   "cell_type": "code",
   "execution_count": 54,
   "metadata": {},
   "outputs": [],
   "source": [
    "def PHaddition(Smatr,Tmatr,alpha,beta):\n",
    "    svec = np.array([-Smatr@np.ones_like(alpha)])\n",
    "    tvec = np.array([-Tmatr@np.ones_like(beta)])\n",
    "\n",
    "    blockmatr = np.outer(svec,beta)\n",
    "    Lmatrix = np.block([[Smatr,blockmatr],[np.zeros([len(Tmatr),len(Smatr)]),Tmatr]])\n",
    "    gammavec = np.concatenate([alpha,np.zeros_like(beta)])\n",
    "\n",
    "    return Lmatrix,gammavec"
   ]
  },
  {
   "cell_type": "code",
   "execution_count": 72,
   "metadata": {},
   "outputs": [
    {
     "name": "stdout",
     "output_type": "stream",
     "text": [
      "[9.845e-01 9.391e-01 8.541e-01 7.308e-01 5.824e-01 4.289e-01 2.898e-01\n",
      " 1.786e-01 9.965e-02 4.997e-02 2.235e-02 8.849e-03 3.081e-03 9.384e-04\n",
      " 2.493e-04 5.769e-05 1.163e-05 2.044e-06 3.140e-07 4.230e-08 5.011e-09\n",
      " 5.238e-10 4.850e-11 3.991e-12 2.932e-13 1.943e-14 1.332e-15 2.220e-16\n",
      " 2.220e-16 2.220e-16 2.220e-16 1.110e-16 1.110e-16 1.110e-16 1.110e-16\n",
      " 1.110e-16 1.110e-16 1.110e-16 1.110e-16 1.110e-16 1.110e-16]\n"
     ]
    }
   ],
   "source": [
    "import pandas as pd\n",
    "from scipy.linalg import expm\n",
    "\n",
    "Lkmatr = Lmatr\n",
    "gammak = gamma\n",
    "t = 40\n",
    "prob = [1-gammak.T@expm(Lkmatr*t)@np.ones_like(gammak)]\n",
    "\n",
    "for k in range(40):\n",
    "    Lkmatr,gammak = PHaddition(Lkmatr,Lmatr,gammak,gamma)\n",
    "    prob = prob+[1-gammak.T@expm(Lkmatr*t)@np.ones_like(gammak)]\n",
    "\n",
    "print(np.array(prob))"
   ]
  },
  {
   "cell_type": "code",
   "execution_count": 74,
   "metadata": {},
   "outputs": [
    {
     "name": "stdout",
     "output_type": "stream",
     "text": [
      "5.17342052465318\n"
     ]
    }
   ],
   "source": [
    "print(np.sum(prob))"
   ]
  },
  {
   "cell_type": "code",
   "execution_count": null,
   "metadata": {},
   "outputs": [],
   "source": [
    "np.set_printoptions(precision=3)"
   ]
  },
  {
   "cell_type": "code",
   "execution_count": null,
   "metadata": {},
   "outputs": [],
   "source": []
  }
 ],
 "metadata": {
  "kernelspec": {
   "display_name": "Python 3",
   "language": "python",
   "name": "python3"
  },
  "language_info": {
   "codemirror_mode": {
    "name": "ipython",
    "version": 3
   },
   "file_extension": ".py",
   "mimetype": "text/x-python",
   "name": "python",
   "nbconvert_exporter": "python",
   "pygments_lexer": "ipython3",
   "version": "3.8.5"
  },
  "orig_nbformat": 4,
  "vscode": {
   "interpreter": {
    "hash": "6f5583cf1d9466b5c27e75c89cc6b383bed5736d6b16c51c8074d8690011a952"
   }
  }
 },
 "nbformat": 4,
 "nbformat_minor": 2
}
