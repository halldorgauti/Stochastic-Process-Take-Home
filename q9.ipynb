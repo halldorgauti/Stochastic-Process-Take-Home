{
 "cells": [
  {
   "attachments": {},
   "cell_type": "markdown",
   "metadata": {},
   "source": [
    "<h4>Question 9</h4>\n",
    "Assuming the system has been running for quite some time, what is the probability that the\n",
    "time to the next completed repair is larger than 8 days?"
   ]
  },
  {
   "cell_type": "code",
   "execution_count": 366,
   "metadata": {},
   "outputs": [
    {
     "name": "stdout",
     "output_type": "stream",
     "text": [
      "pi: [15/22, 3/44, 1/8, 1/8]\n"
     ]
    }
   ],
   "source": [
    "import numpy as np\n",
    "from sympy import*\n",
    "\n",
    "gamma1 = Matrix([Rational(1,2),Rational(1,2),0,0])\n",
    "lambda1 = Rational(11,120)\n",
    "lambda2 = Rational(11,12)\n",
    "mu = 1\n",
    "L = Matrix([[-lambda1, 0,lambda1,0],[0,-lambda2,lambda2,0],[0,0,-mu,mu],[0,0,0,-mu]])\n",
    "U = (-L)**-1\n",
    "\n",
    "pi = (gamma1.T@U)/(gamma1.T@U@np.ones_like(gamma1))[0]\n",
    "print('pi:',pi[:])"
   ]
  },
  {
   "cell_type": "code",
   "execution_count": 355,
   "metadata": {},
   "outputs": [
    {
     "data": {
      "text/latex": [
       "$\\displaystyle - \\frac{605 t e^{- t}}{872} - \\frac{114587 e^{- t}}{11881} + \\frac{108 e^{- \\frac{11 t}{12}}}{11} + \\frac{108000 e^{- \\frac{11 t}{120}}}{130691}$"
      ],
      "text/plain": [
       "-605*t*exp(-t)/872 - 114587*exp(-t)/11881 + 108*exp(-11*t/12)/11 + 108000*exp(-11*t/120)/130691"
      ]
     },
     "execution_count": 355,
     "metadata": {},
     "output_type": "execute_result"
    }
   ],
   "source": [
    "t = symbols('t')\n",
    "prob = (pi@exp(L*t)@np.ones_like(gamma1))[0]\n",
    "simplify(prob)"
   ]
  },
  {
   "cell_type": "code",
   "execution_count": 356,
   "metadata": {},
   "outputs": [
    {
     "data": {
      "text/latex": [
       "$\\displaystyle - \\frac{605 t e^{- t}}{872} - \\frac{114587 e^{- t}}{11881} + \\frac{108 e^{- \\frac{11 t}{12}}}{11} + \\frac{108000 e^{- \\frac{11 t}{120}}}{130691}$"
      ],
      "text/plain": [
       "-605*t*exp(-t)/872 - 114587*exp(-t)/11881 + 108*exp(-11*t/12)/11 + 108000*exp(-11*t/120)/130691"
      ]
     },
     "execution_count": 356,
     "metadata": {},
     "output_type": "execute_result"
    }
   ],
   "source": [
    "t = symbols('t')\n",
    "prob = (pi@exp(L*t)@np.ones_like(gamma1))[0]\n",
    "simplify(prob)"
   ]
  },
  {
   "attachments": {},
   "cell_type": "markdown",
   "metadata": {},
   "source": [
    "Insert t = 8 into the equation to get:"
   ]
  },
  {
   "cell_type": "code",
   "execution_count": 357,
   "metadata": {},
   "outputs": [
    {
     "name": "stdout",
     "output_type": "stream",
     "text": [
      "prob: 0.398230880468707\n"
     ]
    }
   ],
   "source": [
    "prob_n = prob.subs(t,8).evalf()\n",
    "print('prob:' ,prob_n)"
   ]
  }
 ],
 "metadata": {
  "kernelspec": {
   "display_name": "Python 3",
   "language": "python",
   "name": "python3"
  },
  "language_info": {
   "codemirror_mode": {
    "name": "ipython",
    "version": 3
   },
   "file_extension": ".py",
   "mimetype": "text/x-python",
   "name": "python",
   "nbconvert_exporter": "python",
   "pygments_lexer": "ipython3",
   "version": "3.8.5 (default, Sep  3 2020, 21:29:08) [MSC v.1916 64 bit (AMD64)]"
  },
  "orig_nbformat": 4,
  "vscode": {
   "interpreter": {
    "hash": "6f5583cf1d9466b5c27e75c89cc6b383bed5736d6b16c51c8074d8690011a952"
   }
  }
 },
 "nbformat": 4,
 "nbformat_minor": 2
}
